{
 "cells": [
  {
   "cell_type": "code",
   "execution_count": null,
   "metadata": {},
   "outputs": [],
   "source": [
    "from dem_processing import DEMProcessor\n",
    "import timeit\n",
    "import numpy as np\n",
    "import os\n",
    "os.getcwd()\n",
    "# filename = '/mnt/srtmElevationData/BDA/data/test/hanover/N43W-71_N44W-70.tif'\n",
    "filename = '../N37o5E126o0_N38o0E126o5.tif'"
   ]
  },
  {
   "cell_type": "code",
   "execution_count": null,
   "metadata": {},
   "outputs": [],
   "source": [
    "dp = DEMProcessor(filename)"
   ]
  },
  {
   "cell_type": "code",
   "execution_count": null,
   "metadata": {},
   "outputs": [],
   "source": [
    "pits = timeit.timeit(dp.calc_fill_pit_artifacts, number=1)\n",
    "flats = timeit.timeit(dp.calc_fill_flats, number=1)\n",
    "slope = timeit.timeit(dp.calc_slopes_directions, number=1)\n",
    "uca = timeit.timeit(dp.calc_uca, number=1)\n",
    "twi = timeit.timeit(dp.calc_twi, number=1)"
   ]
  },
  {
   "cell_type": "code",
   "execution_count": null,
   "metadata": {},
   "outputs": [],
   "source": [
    "print \"Pits: \"\n",
    "print pits\n",
    "print \"Flats: \"\n",
    "print flats\n",
    "print \"Slope: \"\n",
    "print slope\n",
    "print \"UCA: \"\n",
    "print uca\n",
    "print \"TWI: \"\n",
    "print twi"
   ]
  },
  {
   "cell_type": "code",
   "execution_count": null,
   "metadata": {},
   "outputs": [],
   "source": [
    "total = pits + flats + slope + uca + twi\n",
    "results = np.array([(\"filename\", \"pits time\", \"flats time\", \"slope time\", \"uca time\", \"twi time\", \"total time\"), (filename, pits, flats, slope, uca, twi, total)])\n",
    "print results"
   ]
  },
  {
   "cell_type": "code",
   "execution_count": null,
   "metadata": {
    "collapsed": true
   },
   "outputs": [],
   "source": []
  }
 ],
 "metadata": {
  "kernelspec": {
   "display_name": "Python 2",
   "language": "python",
   "name": "python2"
  },
  "language_info": {
   "codemirror_mode": {
    "name": "ipython",
    "version": 2
   },
   "file_extension": ".py",
   "mimetype": "text/x-python",
   "name": "python",
   "nbconvert_exporter": "python",
   "pygments_lexer": "ipython2",
   "version": "2.7.13"
  }
 },
 "nbformat": 4,
 "nbformat_minor": 2
}
